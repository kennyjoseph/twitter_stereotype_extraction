{
 "cells": [
  {
   "cell_type": "code",
   "execution_count": 1,
   "metadata": {},
   "outputs": [
    {
     "name": "stdout",
     "output_type": "stream",
     "text": [
      "90966\n"
     ]
    }
   ],
   "source": [
    "import glob\n",
    "input_files = glob.glob(\"../../data/ferg_geo_data/geotagged_combined_json/*\")\n",
    "print len(input_files)"
   ]
  },
  {
   "cell_type": "code",
   "execution_count": 3,
   "metadata": {},
   "outputs": [],
   "source": [
    "import numpy as np\n",
    "\n",
    "x = np.array_split(input_files, 100)"
   ]
  },
  {
   "cell_type": "code",
   "execution_count": 4,
   "metadata": {},
   "outputs": [
    {
     "data": {
      "text/plain": [
       "910"
      ]
     },
     "execution_count": 4,
     "output_type": "execute_result",
     "metadata": {}
    }
   ],
   "source": [
    "len(x[0])"
   ]
  },
  {
   "cell_type": "code",
   "execution_count": 45,
   "metadata": {},
   "outputs": [],
   "source": [
    "# get gender info\n",
    "import io\n",
    "from urllib2 import Request, urlopen, URLError\n",
    "import pandas as pd \n",
    "\n",
    "gend_name = pd.DataFrame([x.split() for x in io.open(\"../data/ferg_geo_data/id_to_gender.txt\")])\n",
    "gend_name.columns = ['uid','gender']"
   ]
  },
  {
   "cell_type": "code",
   "execution_count": 3,
   "metadata": {},
   "outputs": [
    {
     "name": "stdout",
     "output_type": "stream",
     "text": [
      "2237 51476\n",
      "0\n",
      "100\n",
      "200\n",
      "300\n",
      "400\n",
      "500\n",
      "600\n",
      "700\n",
      "800\n",
      "900\n",
      "1000\n",
      "1100\n",
      "1200\n",
      "1300\n",
      "NO DATA FOR:  51 515\n",
      "1400\n",
      "1500\n",
      "1600\n",
      "NO DATA FOR:  78 020\n",
      "1700\n",
      "1800\n",
      "1900\n",
      "2000\n",
      "2100\n",
      "2200\n"
     ]
    }
   ],
   "source": [
    "# read census data \n",
    "\n",
    "fields_of_interest = ['B01003_001E','B01001_002E','B01001_026E','B02001_002E','B02001_003E','B01002_001E',\n",
    "                      'B19001_001E','B19013_001E','B03003_002E','B03003_003E','B19083_001E',\n",
    "                      'B19301_001E','B19301H_001E','B19301B_001E','B19301I_001E','B23025_002E','B23025_007E']\n",
    "\n",
    "state_to_abbrev = {x.strip().split(\"\\t\")[1]:x.split(\"\\t\")[0] for x in \n",
    "                       open(\"../../identity_extraction/analysis/state_abbrev.tsv\",\"r\")}\n",
    "state_to_abbrev['DC'] = 'District of Columbia'\n",
    "state_to_abbrev['PR'] = 'Puerto Rico'\n",
    "\n",
    "c = io.open(\"../data/ferg_geo_data/uid_to_census_block.txt\")\n",
    "counties = set()\n",
    "full = set()\n",
    "for line in c:\n",
    "    uid, x = line.split()\n",
    "    if uid not in gend_name:\n",
    "        continue\n",
    "    state, county, tract,block_group, block = x[:2], x[2:5],x[5:11],x[11],x[12:15]\n",
    "    counties.add(state+\"_\"+county)\n",
    "    full.add(x)\n",
    "\n",
    "print len(counties), len(full)\n",
    "c.close()\n",
    "\n",
    "def get_loc_data(state, county):\n",
    "    \n",
    "    q = \"http://api.census.gov/data/2014/acs5?get=NAME,{params}&\".format(params=\",\".join(fields_of_interest))\n",
    "    q += \"for=block+group:*&in=state:{st}+county:{cy}\".format(st=state,cy=county)\n",
    "    q += \"&key={key}\".format(key='a6e317918af5d4097d792cabd992f41f2691b75e')\n",
    "    try:\n",
    "        response = urlopen(q)\n",
    "    except:\n",
    "        print 'NO DATA FOR: ', state, county\n",
    "    resp_val = response.read().replace(\"null\",\"None\")\n",
    "    if not len(resp_val):\n",
    "        print 'NO DATA FOR: ', state, county\n",
    "        return None\n",
    "    kittens = eval(resp_val)\n",
    "    headers = kittens.pop(0)\n",
    "    df = pd.DataFrame(kittens,columns=headers)\n",
    "    return df\n",
    "\n",
    "bg_data = []\n",
    "for i,state_county in enumerate(counties):\n",
    "    #if i < len(bg_data):\n",
    "    #    continue\n",
    "    state, county = state_county.split(\"_\")\n",
    "    \n",
    "    bg_data.append(get_loc_data(state,county))\n",
    "    if i % 100 == 0:\n",
    "        print i"
   ]
  },
  {
   "cell_type": "code",
   "execution_count": 6,
   "metadata": {},
   "outputs": [
    {
     "name": "stdout",
     "output_type": "stream",
     "text": [
      "0\n",
      "1000\n",
      "2000\n"
     ]
    }
   ],
   "source": [
    "all_geo_data = pd.DataFrame()\n",
    "for i, df in enumerate(bg_data):\n",
    "    all_geo_data = all_geo_data.append(df,ignore_index=True)\n",
    "    if i % 1000 == 0:\n",
    "        print i\n",
    "all_geo_data[fields_of_interest]=all_geo_data[fields_of_interest].astype('float')\n",
    "all_geo_data.columns =  ['county_name','total_pop','male_pop','female_pop','white_pop',\n",
    "                         'black_pop','med_age','n_home','med_income','not_hisp_pop','hisp_pop','gini',\n",
    "                         'per_cap_inc','per_cap_white','per_cap_black','per_cap_hisp','tot_in_lab',\n",
    "                         'tot_not_in_lab','state','county','tract','block_group']"
   ]
  },
  {
   "cell_type": "code",
   "execution_count": 10,
   "metadata": {},
   "outputs": [
    {
     "name": "stdout",
     "output_type": "stream",
     "text": [
      "58148\n"
     ]
    }
   ],
   "source": [
    "user_data = []\n",
    "c = io.open(\"../data/ferg_geo_data/uid_to_census_block.txt\")\n",
    "for line in c:\n",
    "    uid, x = line.split()\n",
    "    if uid not in gend_name:\n",
    "        continue\n",
    "    state, county, tract,block_group, block = x[:2], x[2:5],x[5:11],x[11],x[12:15]\n",
    "    user_data.append([uid,state,county,tract,block_group])\n",
    "c.close()\n",
    "print len(user_data)\n",
    "user_data = pd.DataFrame(user_data)\n",
    "user_data.columns = ['uid','state','county','tract','block_group']"
   ]
  },
  {
   "cell_type": "code",
   "execution_count": 21,
   "metadata": {},
   "outputs": [],
   "source": [
    "user_geo_data = pd.merge(user_data,all_geo_data,\n",
    "                         left_on=['state','county','tract','block_group'],\n",
    "                         right_on=['state','county','tract','block_group'])"
   ]
  },
  {
   "cell_type": "code",
   "execution_count": 36,
   "metadata": {},
   "outputs": [],
   "source": [
    "user_geo_data = user_geo_data[user_geo_data.total_pop > 0]"
   ]
  },
  {
   "cell_type": "code",
   "execution_count": 46,
   "metadata": {},
   "outputs": [],
   "source": [
    "# construct and save out all user info\n",
    "all_user_data = pd.merge(user_geo_data,gend_name, on='uid')\n",
    "all_user_data.to_csv(\"../data/ferg_geo_data/all_user_geo_gender.csv\")"
   ]
  },
  {
   "cell_type": "code",
   "execution_count": 23,
   "metadata": {},
   "outputs": [],
   "source": [
    "# any exploratory plotting\n",
    "%matplotlib inline\n",
    "import matplotlib.pyplot as plt\n",
    "import seaborn as sns\n",
    "sns.set()\n",
    "from math import log\n",
    "ax = sns.jointplot(all_user_data.b_percent.apply(lambda x: log(x+1)),all_user_data.total_pop.apply(lambda x: log(x+1)))"
   ]
  },
  {
   "cell_type": "code",
   "execution_count": 81,
   "metadata": {},
   "outputs": [],
   "source": [
    "# create cells for demographics, taken in from get_user_data.ipynb\n",
    "import pandas as pd\n",
    "\n",
    "all_user_data = pd.read_csv(\"../data/ferg_geo_data/all_user_geo_gender.csv\")\n",
    "# create cells for demographics\n",
    "all_user_data['cell'] = 0\n",
    "all_user_data.loc[(all_user_data.b_percent > all_user_data.b_percent.mean()) & (all_user_data.gender == 'M'),'cell'] = 0\n",
    "all_user_data.loc[(all_user_data.b_percent > all_user_data.b_percent.mean()) & (all_user_data.gender == 'F'),'cell'] = 1\n",
    "all_user_data.loc[(all_user_data.b_percent <= all_user_data.b_percent.mean()) & (all_user_data.gender == 'M'),'cell'] = 2\n",
    "all_user_data.loc[(all_user_data.b_percent <= all_user_data.b_percent.mean()) & (all_user_data.gender == 'F'),'cell'] = 3\n",
    "all_user_data.cell.value_counts()\n",
    "\n",
    "cell_out = io.open(\"../data/ferg_geo_data/user_to_cell.tsv\",\"w\")\n",
    "for k,v in zip(list(all_user_data.uid), list(all_user_data.cell)):\n",
    "    cell_out.write(unicode(k) + \"\\t\"+unicode(v) + \"\\n\")\n",
    "cell_out.close()"
   ]
  },
  {
   "cell_type": "code",
   "execution_count": 79,
   "metadata": {},
   "outputs": [],
   "source": [
    ""
   ]
  }
 ],
 "metadata": {
  "kernelspec": {
   "display_name": "Python 2",
   "language": "python",
   "name": "python2"
  },
  "language_info": {
   "codemirror_mode": {
    "name": "ipython",
    "version": 2.0
   },
   "file_extension": ".py",
   "mimetype": "text/x-python",
   "name": "python",
   "nbconvert_exporter": "python",
   "pygments_lexer": "ipython2",
   "version": "2.7.11"
  }
 },
 "nbformat": 4,
 "nbformat_minor": 0
}