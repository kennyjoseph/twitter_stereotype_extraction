{
 "cells": [
  {
   "cell_type": "markdown",
   "metadata": {},
   "source": [
    "## Step 1 - load in all the info we need, e.g. sentiment information"
   ]
  },
  {
   "cell_type": "code",
   "execution_count": 6,
   "metadata": {},
   "outputs": [],
   "source": [
    "import io \n",
    "import re\n",
    "from constraints import get_id_and_value_map\n",
    "from constraints import IDENTITY_PREFIX, SENTWORD_PREFIX\n",
    "from vaderSentiment.vaderSentiment import WORD_VALENCE_DICT\n",
    "\n",
    "# read in sentiment word values\n",
    "sent_to_id = {}\n",
    "sent_values = {}\n",
    "for i,x in enumerate(io.open(\"../data/sentiment_data/clean_epa_terms.txt\")):\n",
    "    x_spl = x.split(\"\\t\")\n",
    "    word = x_spl[0]\n",
    "    id_val = SENTWORD_PREFIX + str(i) \n",
    "    sent_to_id[word] = id_val\n",
    "    sent_values[id_val +'e'] = float(x_spl[1])+.0001\n",
    "    sent_values[id_val +'p'] = float(x_spl[2])+.0001\n",
    "    sent_values[id_val +'a'] = float(x_spl[3])+.0001\n",
    "\n",
    "# make up identity values\n",
    "identities = {x.strip() for x in \n",
    "              io.open(\"../data/identity_data/final_identities_list.txt\").readlines()}\n",
    "identity_to_id = {identity : IDENTITY_PREFIX+str(i) for i, identity in enumerate(identities)}\n",
    "id_to_identity = {v : k for k, v in identity_to_id.items()}\n",
    "\n",
    "# get grams to compbine\n",
    "gram_list = set(identity_to_id.keys())|set(sent_to_id.keys())\n",
    "\n",
    "# get emoji, emoticon data, hashtag data\n",
    "emoji_data = {x.split(\"\\t\")[0] : float(x.strip().split(\"\\t\")[1])\n",
    "                    for x in io.open(\"../data/sentiment_data/emoji_sent_data.tsv\")}\n",
    "emoji_regex = re.compile(\"|\".join(emoji_data.keys()))\n",
    "emoticon_data = {x.split(\"\\t\")[0] : float(x.strip().split(\"\\t\")[1])\n",
    "                    for x in io.open(\"../data/sentiment_data/emoticon_sent_data.tsv\")}\n",
    "hashtag_data = {}\n",
    "for line in io.open(\"../data/sentiment_data/nrc_epa_hashtags.tsv\"):\n",
    "    line_spl = line.strip().split(\"\\t\")\n",
    "    hashtag_data[line_spl[0]] = [float(x) for x in line_spl[1:]]\n",
    "    \n",
    "# get vader dict without our identities\n",
    "vader_sent_dict = WORD_VALENCE_DICT.copy()\n",
    "for i in identities:\n",
    "    if i in vader_sent_dict:\n",
    "        del vader_sent_dict[i]"
   ]
  },
  {
   "cell_type": "markdown",
   "metadata": {},
   "source": [
    "### Step 1a: Configure Spark"
   ]
  },
  {
   "cell_type": "code",
   "execution_count": 9,
   "metadata": {},
   "outputs": [],
   "source": [
    "import logging\n",
    "from pyspark import SparkContext, SparkConf\n",
    "\n",
    "conf = (SparkConf()\n",
    "     .setMaster(\"local[*]\")\n",
    "     .setAppName(\"My app\")\n",
    "     .set(\"spark.driver.maxResultSize\", \"50g\"))\n",
    "sc = SparkContext(conf=conf)\n",
    "logging.basicConfig(format='%(asctime)s : %(levelname)s : %(message)s', level=logging.INFO)"
   ]
  },
  {
   "cell_type": "markdown",
   "metadata": {},
   "source": [
    "## Step 2: Get Text Units from a file/files"
   ]
  },
  {
   "cell_type": "code",
   "execution_count": null,
   "metadata": {},
   "outputs": [],
   "source": [
    "from twitter_dm.utility.general_utils import read_grouped_by_newline_file\n",
    "\n",
    "data = read_grouped_by_newline_file(\"../data/ferg_geo_data/recent/fin/125.txt\")"
   ]
  },
  {
   "cell_type": "code",
   "execution_count": null,
   "metadata": {},
   "outputs": [],
   "source": [
    "# To Test\n",
    "default_textunit_args = {\"use_events\": False,\n",
    "                         \"use_behaviors\": False,\n",
    "                         \"use_isa\": False,\n",
    "                         \"use_own_full_sentence\" : False,\n",
    "                         \"emoticon_to_eval_dim\" : False,\n",
    "                         \"use_parent_child\" : False,\n",
    "                         \"hashtag_epa_data\" : False,\n",
    "                         \"vader_dict\" : False,\n",
    "                         \"emoji_info\" : False,\n",
    "                         \"use_clause_level\" : True,\n",
    "                         \"do_negation_on_full_sentence\" : True\n",
    "                        }\n",
    "\n",
    "addtl_models = {\"w_beh\" : {\"use_behaviors\": True},\n",
    "                \"w_event\" : {\"use_events\" : True},\n",
    "                \"event_only\" : {\"use_events\": True, \"use_own_full_sentence\": False, \"use_clause_level\" : True},\n",
    "                \"nothing\" : {\"use_own_full_sentence\": False},\n",
    "                #\"w_isa\" : {\"use_isa\": True},\n",
    "                \"w_emoticon\" : {\"emoticon_to_eval_dim\" : emoticon_data},\n",
    "                #\"w_ht\" : {\"hashtag_epa_data\": hashtag_data},\n",
    "                #\"w_vader\" : {\"vader_dict\" : vader_sent_dict},\n",
    "                #\"w_pc\" : {\"use_parent_child\" : True},\n",
    "                \"w_emoji\" : {\"emoji_info\": [emoji_data,emoji_regex]},\n",
    "                \"no_negation\" : {\"do_negation_on_full_sentence\" : False},\n",
    "                \"full_mod\" : {\"use_events\":True },\n",
    "                \"full_mod_b\" : {\"do_negation_on_full_sentence\" : True,\"use_events\":True, \n",
    "                                \"use_behaviors\":True, \"use_isa\" : True }}"
   ]
  },
  {
   "cell_type": "code",
   "execution_count": null,
   "metadata": {},
   "outputs": [],
   "source": [
    "import textunit\n",
    "def get_textunit_info(x):\n",
    "    spl = x[0].split(\"\\t\")\n",
    "    uid = spl[11]\n",
    "    tweet_id =  spl[10]\n",
    "    date = x[0].split(\"\\t\")[-2]\n",
    "    \n",
    "    tu_models = {}\n",
    "    \n",
    "    s = textunit.TextUnit(uid+ \"\\t\" + tweet_id, date,\n",
    "                     sent_to_id,identity_to_id,gram_list,\n",
    "                     dependency_parsed_conll=x,\n",
    "                     sent_values=sent_values,\n",
    "                     **default_textunit_args)\n",
    "    tu_models[\"default\"] = s\n",
    "\n",
    "    for key, addtl_model in addtl_models.items():\n",
    "        def_cpy = default_textunit_args.copy()\n",
    "        def_cpy.update(addtl_model)\n",
    "        s = textunit.TextUnit(uid+ \"\\t\" + tweet_id, date,\n",
    "                     sent_to_id,identity_to_id,gram_list,\n",
    "                     dependency_parsed_conll=x,\n",
    "                     sent_values=sent_values,\n",
    "                     **def_cpy)\n",
    "        tu_models[key] = s\n",
    "    return [tu_models]\n",
    "\n",
    "# k = get_textunit_info(data[1])\n",
    "# for x in k[0].values():\n",
    "#     print x.identities, x.full_deflection_string, x.all_constraints,x.raw_text, x.use_clause_level\n",
    "textunits = sc.parallelize(data,320).flatMap(get_textunit_info).collect()"
   ]
  },
  {
   "cell_type": "code",
   "execution_count": null,
   "metadata": {},
   "outputs": [],
   "source": [
    "import cPickle as pickle\n",
    "pickle.dump(textunits, open(\"textunits_eval_constraint_model.p\",\"wb\"))"
   ]
  },
  {
   "cell_type": "code",
   "execution_count": 1,
   "metadata": {},
   "outputs": [],
   "source": [
    "import cPickle as pickle\n",
    "textunits = pickle.load(open(\"textunits_eval_constraint_model.p\"))"
   ]
  },
  {
   "cell_type": "markdown",
   "metadata": {},
   "source": [
    "## Step 3: Convert To Users"
   ]
  },
  {
   "cell_type": "code",
   "execution_count": 2,
   "metadata": {},
   "outputs": [],
   "source": [
    "from collections import defaultdict\n",
    "\n",
    "# split into sets of tweets for each type of textunit\n",
    "user_tweets = defaultdict(list)\n",
    "for textunits_dict in textunits:\n",
    "    for k, v in textunits_dict.items():\n",
    "        user_tweets[k].append(v)"
   ]
  },
  {
   "cell_type": "code",
   "execution_count": 3,
   "metadata": {},
   "outputs": [],
   "source": [
    "import user\n",
    "user_sets = {k : user.get_users_from_tweet_list(tweetlist,30,.15) for k, tweetlist in user_tweets.items()}"
   ]
  },
  {
   "cell_type": "code",
   "execution_count": 4,
   "metadata": {},
   "outputs": [
    {
     "data": {
      "text/plain": [
       "360"
      ]
     },
     "execution_count": 4,
     "output_type": "execute_result",
     "metadata": {}
    }
   ],
   "source": [
    "len(user_sets.items()[0][1])"
   ]
  },
  {
   "cell_type": "markdown",
   "metadata": {},
   "source": [
    "## Step 4: \"Train\" A Toy Model for each type of textunit"
   ]
  },
  {
   "cell_type": "code",
   "execution_count": 7,
   "metadata": {},
   "outputs": [],
   "source": [
    "# get default/base values\n",
    "import numpy as np\n",
    "import io\n",
    "base_identity_sent_vals = {}\n",
    "poss_sent_vals = {x.strip().split(\"\\t\")[0]: x.strip().split(\"\\t\")[1:] \n",
    "                      for x in io.open(\"../data/sentiment_data/clean_epa_terms.txt\")}\n",
    "for iden_id, identity in id_to_identity.items():\n",
    "    e, p, a = [float(x) for x in poss_sent_vals.get(identity, [.4775899+np.random.uniform(-1,1),\n",
    "                                                               0.5816139+np.random.uniform(-1,1),\n",
    "                                                               0.4352551+np.random.uniform(-1,1)])]\n",
    "    base_identity_sent_vals[iden_id+'e']= e\n",
    "    base_identity_sent_vals[iden_id+'p']= p\n",
    "    base_identity_sent_vals[iden_id+'a']= a"
   ]
  },
  {
   "cell_type": "code",
   "execution_count": 8,
   "metadata": {},
   "outputs": [],
   "source": [
    "import numpy as np\n",
    "def get_user_sent_dict(values, training_tweets):\n",
    "    user_sent_dict = defaultdict(float)\n",
    "    uv = type(\"Cat\", (object,),values)\n",
    "    for iden, constr_all_tweets in training_tweets:\n",
    "        res = np.array([-eval(str(x[1]))/(2*eval(str(x[0]))) \n",
    "                            for x in constr_all_tweets]).mean()\n",
    "        user_sent_dict[iden] = res\n",
    "    return user_sent_dict\n",
    "\n",
    "def get_sent_dicts_for_all_users_in_set(users, base_values):\n",
    "    user_our_full_sent_data =  {}\n",
    "    for u in users:\n",
    "        # iterate twice, like a little EM -ish alg\n",
    "        user_sent_dict = get_user_sent_dict(base_values, u.training_id_to_tweets.items())\n",
    "        user_values = {v : user_sent_dict.get(v,k) for v,k in base_values.items()}\n",
    "        user_sent_dict = get_user_sent_dict(user_values, u.training_id_to_tweets.items())\n",
    "        user_our_full_sent_data[u.uid] = user_sent_dict\n",
    "    return user_our_full_sent_data"
   ]
  },
  {
   "cell_type": "code",
   "execution_count": 9,
   "metadata": {},
   "outputs": [],
   "source": [
    "# get uid -> identity_epa -> mean_sent_value for all user sets for each user\n",
    "user_to_sent_dicts = {k: get_sent_dicts_for_all_users_in_set(users, base_identity_sent_vals) \n",
    "                      for k, users in user_sets.items()}"
   ]
  },
  {
   "cell_type": "code",
   "execution_count": 10,
   "metadata": {},
   "outputs": [
    {
     "data": {
      "text/plain": [
       "['w_emoticon',\n",
       " 'event_only',\n",
       " 'default',\n",
       " 'full_mod',\n",
       " 'full_mod_b',\n",
       " 'w_beh',\n",
       " 'nothing',\n",
       " 'w_event',\n",
       " 'w_emoji',\n",
       " 'no_negation']"
      ]
     },
     "execution_count": 10,
     "output_type": "execute_result",
     "metadata": {}
    }
   ],
   "source": [
    "user_to_sent_dicts.keys()"
   ]
  },
  {
   "cell_type": "markdown",
   "metadata": {},
   "source": [
    "## Step 5: Evaluate the toy models against the baseline sentiment model"
   ]
  },
  {
   "cell_type": "code",
   "execution_count": 11,
   "metadata": {},
   "outputs": [],
   "source": [
    "index_to_id = identity_to_id.values()\n",
    "id_to_index = {k : i for i,k in enumerate(index_to_id)}"
   ]
  },
  {
   "cell_type": "markdown",
   "metadata": {},
   "source": [
    "### Step 5a: Run the baseline model"
   ]
  },
  {
   "cell_type": "code",
   "execution_count": 78,
   "metadata": {},
   "outputs": [],
   "source": [
    "from math import log\n",
    "from vaderSentiment.vaderSentiment import sentiment\n",
    "from pred_models import SimpleSent\n",
    "from vaderSentiment.vaderSentiment import sentiment\n",
    "from twitter_dm.utility.general_utils import tab_stringify_newline as tsn\n",
    "\n",
    "\n",
    "## doesn't matter which user set we use, they're all the same, so just go with one\n",
    "users = user_sets.values()[0]"
   ]
  },
  {
   "cell_type": "code",
   "execution_count": 79,
   "metadata": {},
   "outputs": [
    {
     "name": "stdout",
     "output_type": "stream",
     "text": [
      "0\n",
      "100\n",
      "200\n",
      "300\n"
     ]
    }
   ],
   "source": [
    "def get_sentiment_for_line(line):\n",
    "    uid, identities, text = line.strip().split(\"\\t\")\n",
    "    identities = identities.split(\",\")\n",
    "    sent = sentiment(text,vader_sent_dict,alpha_normalizer=15.)['compound']\n",
    "    for identity in identities:\n",
    "        yield ((uid, identity), sent)\n",
    "        \n",
    "# write out the raw text so we can build the baseline sentiment model elsewhere\n",
    "training_raw_text_out = io.open(\"training_for_find_best_constraint_raw_text.txt\",\"w\")\n",
    "for j, u in enumerate(users):\n",
    "    if j % 100 == 0:\n",
    "        print j\n",
    "    uid = u.uid\n",
    "    for i, raw_text in enumerate(u.training_raw_text):\n",
    "        training_raw_text_out.write(tsn([uid,\n",
    "                                         u\",\".join(u.training_identities_per_tweet[i]),\n",
    "                                         raw_text]))\n",
    "training_raw_text_out.close()"
   ]
  },
  {
   "cell_type": "code",
   "execution_count": 82,
   "metadata": {},
   "outputs": [],
   "source": [
    "raw_text = sc.textFile(\"training_for_find_best_constraint_raw_text.txt\",128)\n",
    "sent_per_uid_identity = (raw_text.flatMap(get_sentiment_for_line)\n",
    "                         .aggregateByKey((0,0), lambda a,b: (a[0] + b,    a[1] + 1),\n",
    "                                                 lambda a,b: (a[0] + b[0], a[1] + b[1]))\n",
    "                          .mapValues(lambda v: float(v[0])/float(v[1])).collect())\n",
    "import pandas as pd\n",
    "simple_sent_data = pd.DataFrame([ [x[0],x[1], y] for x, y in sent_per_uid_identity])\n",
    "simple_sent_data.columns = ['uid','iden_id','val']"
   ]
  },
  {
   "cell_type": "code",
   "execution_count": 83,
   "metadata": {},
   "outputs": [],
   "source": [
    "import pandas as pd \n",
    "\n",
    "# construct simple sentiment info for simple sent models\n",
    "i2ind = pd.DataFrame(id_to_index.items())\n",
    "i2ind.columns = ['iden_id','index']\n",
    "\n",
    "overall_simple_sent = simple_sent_data[['iden_id','val']].groupby(\"iden_id\").mean().reset_index()\n",
    "overall_simple_sent = pd.merge(overall_simple_sent,i2ind, on='iden_id')\n",
    "simple_sent_vector = np.zeros(len(i2ind))\n",
    "for x in overall_simple_sent.values.tolist():\n",
    "    simple_sent_vector[x[2]] = x[1]\n",
    "\n",
    "user_simple_sent_data = defaultdict(dict)\n",
    "for x in simple_sent_data.values.tolist():\n",
    "    if x[1] in id_to_index:\n",
    "        user_simple_sent_data[x[0]][x[1]] = x[2]"
   ]
  },
  {
   "cell_type": "code",
   "execution_count": 84,
   "metadata": {},
   "outputs": [
    {
     "name": "stdout",
     "output_type": "stream",
     "text": [
      "18666\n",
      "sent_basic -5.71722397306\n",
      "u_sent -5.69977269226\n",
      "129.249103124\n"
     ]
    }
   ],
   "source": [
    "pv = 2\n",
    "rsv = 1\n",
    "\n",
    "n_identities = len(identities)\n",
    "simp_sent = SimpleSent(\"sent_basic\", simple_sent_vector, id_to_index, rescale_value=rsv, power_val=pv)\n",
    "perpl = defaultdict(int)\n",
    "spot = []\n",
    "n_tot_obs = 0\n",
    "for u in users:\n",
    "    user_simple_sent = SimpleSent(\"u_sent\", simple_sent_vector, id_to_index, rescale_value=rsv, \n",
    "                                  user_sent_info=user_simple_sent_data[u.uid], power_val=pv)\n",
    "    sent_models = [simp_sent,user_simple_sent]\n",
    "    sent_probs = {}\n",
    "\n",
    "    for tw_iter, test_text in enumerate(u.test_raw_text):\n",
    "        # do simple sent stuff\n",
    "        test_sent = sentiment(test_text, vader_sent_dict)['compound']\n",
    "        for m in sent_models:\n",
    "            sent_probs[m.name()] = m.compute_prob(test_sent)\n",
    "          \n",
    "        test_string = u.test_deflection_strings[tw_iter].replace(\"uv.\",\"self.uv.\")\n",
    "\n",
    "        for identity in u.test_identities_per_tweet[tw_iter]:\n",
    "            n_tot_obs += 1\n",
    "            index_of_identity = id_to_index[identity]\n",
    "            for name, probs in sent_probs.items():\n",
    "                perpl[name] += log(probs[index_of_identity])\n",
    "            if (not len(test_string) or \n",
    "                    (identity+'e' not in test_string and\n",
    "                     identity+'p' not in test_string and\n",
    "                     identity+'a' not in test_string)):\n",
    "                pass\n",
    "            else:\n",
    "                spot.append(np.where((-probs).argsort() == index_of_identity)[0][0])\n",
    "print n_tot_obs\n",
    "for k, v in perpl.items():\n",
    "    print k, v/float(n_tot_obs)\n",
    "print np.mean(spot)"
   ]
  },
  {
   "cell_type": "markdown",
   "metadata": {},
   "source": [
    "### Step 5b Run each of the textunit models"
   ]
  },
  {
   "cell_type": "code",
   "execution_count": 36,
   "metadata": {},
   "outputs": [],
   "source": [
    "float_formatter = lambda x: \"%.6f\" % x\n",
    "np.set_printoptions(threshold=10000,\n",
    "                    linewidth=100,\n",
    "                    formatter={'float_kind':float_formatter})"
   ]
  },
  {
   "cell_type": "code",
   "execution_count": 93,
   "metadata": {},
   "outputs": [
    {
     "name": "stdout",
     "output_type": "stream",
     "text": [
      "w_emoticon 18666 -12.4723438254 -232808.769846 144.546604918 15331\n",
      "event_only 18666 -12.427738755 -231976.1716 144.519016393 15250\n",
      "default 18666 -12.4412231411 -232227.871152 144.576721311 15250\n",
      "w_beh 18666 -12.4417302024 -232237.335958 144.498262637 15253\n",
      "full_mod_b 18666 -12.4990777249 -233307.784814 144.511609654 15289\n",
      "full_mod 18666 -12.427738755 -231976.1716 144.519016393 15250\n",
      "nothing 18666 -12.4412231411 -232227.871152 144.576721311 15250\n",
      "w_event 18666 -12.427738755 -231976.1716 144.519016393 15250\n",
      "w_emoji 18666 -12.4464100427 -232324.689857 144.367933692 15443\n",
      "no_negation 18666 -12.0660934824 -225225.700943 144.041442623 15250\n"
     ]
    }
   ],
   "source": [
    "from math import log\n",
    "from pred_models import OurSent\n",
    "from collections import Counter\n",
    "\n",
    "n_identities = len(identities)\n",
    "#perpl = defaultdict(int)\n",
    "\n",
    "eq_prob = 1./float(n_identities)\n",
    "\n",
    "for us_key in user_sets.keys():\n",
    "    user_our_full_sent_data = user_to_sent_dicts[us_key]\n",
    "    users = user_sets[us_key]\n",
    "    n_tot_obs = 0\n",
    "    perpl = 0\n",
    "    spot = []\n",
    "    #compute user average\n",
    "    count = Counter()\n",
    "    val_count = Counter()\n",
    "    for user, id_to_val_dict in user_our_full_sent_data.items():\n",
    "        for iden_id, val in id_to_val_dict.items():\n",
    "            count[iden_id] += 1\n",
    "            val_count[iden_id] += val\n",
    "    user_avg = {}\n",
    "    for k, v in base_identity_sent_vals.items():\n",
    "        if count[k]:\n",
    "            user_avg[k] = (float(val_count[k]) + v)/(count[k]+1)\n",
    "        else:\n",
    "            print 'here'\n",
    "            user_avg[k] = v\n",
    "    \n",
    "    for u in users:\n",
    "        ud = user_our_full_sent_data[u.uid]\n",
    "        user_values = {k: ud.get(k,v) for k,v in user_avg.items()}\n",
    "        our_sent = OurSent(index_to_id,user_values)\n",
    "\n",
    "        for tw_iter, test_text in enumerate(u.test_raw_text):\n",
    "            # get defl string for our model\n",
    "            test_string = u.test_deflection_strings[tw_iter].replace(\"uv.\",\"self.uv.\")\n",
    "\n",
    "            for identity in u.test_identities_per_tweet[tw_iter]:\n",
    "                n_tot_obs += 1\n",
    "                if (not len(test_string) or \n",
    "                    (identity+'e' not in test_string and\n",
    "                     identity+'p' not in test_string and\n",
    "                     identity+'a' not in test_string)):\n",
    "                    perpl += log(eq_prob)\n",
    "                else:\n",
    "                    se_prob = our_sent.compute_prob(identity, test_string)\n",
    "                    spot.append(np.where((-se_prob).argsort() == id_to_index[identity])[0][0])\n",
    "                    perpl += log(se_prob[id_to_index[identity]])\n",
    "\n",
    "    print us_key,  n_tot_obs, perpl/float(n_tot_obs), perpl, np.mean(spot), len(spot)"
   ]
  },
  {
   "cell_type": "code",
   "execution_count": 24,
   "metadata": {},
   "outputs": [
    {
     "data": {
      "text/plain": [
       "<matplotlib.axes._subplots.AxesSubplot at 0x7f186f60f190>"
      ]
     },
     "execution_count": 24,
     "output_type": "execute_result",
     "metadata": {}
    },
    {
     "data": {
      "image/png": "[encoded data removed]"
     },
     "output_type": "display_data",
     "metadata": {}
    }
   ],
   "source": [
    "import seaborn as sns\n",
    "sns.set()\n",
    "%matplotlib inline\n",
    "sns.distplot([x for k, x in user_avg.items() if k[-1] == 'p'])"
   ]
  },
  {
   "cell_type": "code",
   "execution_count": null,
   "metadata": {},
   "outputs": [],
   "source": [
    "sc.stop()"
   ]
  },
  {
   "cell_type": "code",
   "execution_count": 91,
   "metadata": {},
   "outputs": [
    {
     "name": "stdout",
     "output_type": "stream",
     "text": [
      "138.54747541 15250\n",
      "15250 -9.54578929663 -145573.286774\n"
     ]
    }
   ],
   "source": [
    "# BASE\n",
    "users = user_sets['nothing']\n",
    "our_sent = OurSent(index_to_id,user_avg)\n",
    "perpl = 0\n",
    "n_tot_obs = 0\n",
    "missed = 0\n",
    "spot = []\n",
    "for u in users:\n",
    "    for tw_iter, test_text in enumerate(u.test_raw_text):\n",
    "        # get defl string for our model\n",
    "        test_string = u.test_deflection_strings[tw_iter].replace(\"uv.\",\"self.uv.\")\n",
    "\n",
    "        #print test_string\n",
    "        for identity in u.test_identities_per_tweet[tw_iter]:\n",
    "            \n",
    "            if (not len(test_string) or \n",
    "                (identity+'e' not in test_string and\n",
    "                 identity+'p' not in test_string and\n",
    "                 identity+'a' not in test_string)):\n",
    "                #perpl += log(eq_prob)\n",
    "                    \n",
    "                missed += 1\n",
    "            else:\n",
    "                n_tot_obs += 1\n",
    "                se_prob = our_sent.compute_prob(identity, test_string)\n",
    "                spot.append(np.where((-se_prob).argsort() == id_to_index[identity])[0][0])\n",
    "#                se_prob *= se_prob.sum()\n",
    "#                se_prob = -np.log(se_prob)\n",
    "#                 print test_string\n",
    "#                 print u.test_raw_text[tw_iter]\n",
    "#                 print id_to_identity[identity], \"{0:.5f}\".format(se_prob[id_to_index[identity]]), '\\t',\n",
    "#                 print user_avg[identity+\"e\"],user_avg[identity+\"p\"],user_avg[identity+\"a\"]\n",
    "#                 print np.where((se_prob).argsort() == id_to_index[identity])[0][0]\n",
    "#                 print \n",
    "#                 top = (se_prob).argsort()[:5]\n",
    "#                 for x in top:\n",
    "#                     print id_to_identity[index_to_id[x]], se_prob[x],\"\\t\",\n",
    "#                     print user_avg[index_to_id[x]+\"e\"],user_avg[index_to_id[x]+\"p\"],user_avg[index_to_id[x]+\"a\"]\n",
    "#                 print\n",
    "                perpl += log(se_prob[id_to_index[identity]])\n",
    "\n",
    "print np.mean(spot), len(spot)\n",
    "print n_tot_obs, perpl/float(n_tot_obs), perpl"
   ]
  },
  {
   "cell_type": "code",
   "execution_count": 87,
   "metadata": {},
   "outputs": [
    {
     "data": {
      "text/plain": [
       "<matplotlib.axes._subplots.AxesSubplot at 0x7f186f44a490>"
      ]
     },
     "execution_count": 87,
     "output_type": "execute_result",
     "metadata": {}
    },
    {
     "data": {
      "image/png": "[encoded data removed]"
     },
     "output_type": "display_data",
     "metadata": {}
    }
   ],
   "source": [
    "sns.distplot(spot)"
   ]
  },
  {
   "cell_type": "code",
   "execution_count": 67,
   "metadata": {},
   "outputs": [
    {
     "data": {
      "text/plain": [
       "1.3476783254091007"
      ]
     },
     "execution_count": 67,
     "output_type": "execute_result",
     "metadata": {}
    }
   ],
   "source": [
    "(1.38599068423-0.71578088033)**2+ (1.65506963742-1.6730903537)**2 + (-0.906946173513+1.85466575121)**2"
   ]
  },
  {
   "cell_type": "markdown",
   "metadata": {},
   "source": [
    "##### "
   ]
  },
  {
   "cell_type": "code",
   "execution_count": null,
   "metadata": {},
   "outputs": [],
   "source": [
    ""
   ]
  },
  {
   "cell_type": "code",
   "execution_count": null,
   "metadata": {},
   "outputs": [],
   "source": [
    ""
   ]
  },
  {
   "cell_type": "code",
   "execution_count": null,
   "metadata": {},
   "outputs": [],
   "source": [
    ""
   ]
  },
  {
   "cell_type": "code",
   "execution_count": null,
   "metadata": {},
   "outputs": [],
   "source": [
    ""
   ]
  },
  {
   "cell_type": "code",
   "execution_count": null,
   "metadata": {},
   "outputs": [],
   "source": [
    ""
   ]
  },
  {
   "cell_type": "code",
   "execution_count": 10,
   "metadata": {},
   "outputs": [],
   "source": [
    "import msgpack\n",
    "import glob\n",
    "files = glob.glob(\"../data/ferg_geo_data/recent/fin/*.txt\")\n",
    "len(files)\n",
    "import numpy as np \n",
    "import io\n",
    "import sys\n",
    "import codecs\n",
    "from collections import defaultdict\n",
    "\n",
    "from user import User\n",
    "import glob\n",
    "import cPickle as pickle\n",
    "import os\n",
    "from twitter_dm.utility.general_utils import read_grouped_by_newline_file\n",
    "from collections import defaultdict\n",
    "from textunit import TextUnit\n",
    "\n",
    "from constraints import get_id_and_value_map\n",
    "from constraints import IDENTITY_PREFIX, SENTWORD_PREFIX\n",
    "\n",
    "sys.stdout = codecs.getwriter('utf-8')(sys.stdout)\n",
    "float_formatter = lambda x: \"%.6f\" % x\n",
    "np.set_printoptions(threshold=10000,\n",
    "                    linewidth=100,\n",
    "                    formatter={'float_kind':float_formatter})\n",
    "\n",
    "def get_all_with_keyword(filename):\n",
    "    ##### GET THE DATA \n",
    "    dep_parse = read_grouped_by_newline_file(filename)\n",
    "    for i,x in enumerate(dep_parse):\n",
    "        if any(['innocent' in y for y in x]):\n",
    "            yield x\n",
    "            \n",
    "            \n",
    "# f = io.open(\"thot_dat.txt\",\"w\")\n",
    "\n",
    "# for fil in files:\n",
    "#     print fil\n",
    "#     for x in get_all_with_keyword(fil):\n",
    "#         f.write(\"\\n\".join(x) + \"\\n\\n\")\n",
    "#     break\n",
    "# f.close()\n",
    "    \n",
    "terror_data = sc.parallelize(files, len(files)).flatMap(get_all_with_keyword).collect()\n",
    "\n",
    "import io\n",
    "f = io.open(\"innocent_dat.txt\",\"w\")\n",
    "for x in terror_data:\n",
    "    f.write(\"\\n\".join(x) + \"\\n\\n\")\n",
    "f.close()"
   ]
  },
  {
   "cell_type": "code",
   "execution_count": 7,
   "metadata": {},
   "outputs": [],
   "source": [
    "sc.stop()"
   ]
  },
  {
   "cell_type": "code",
   "execution_count": null,
   "metadata": {},
   "outputs": [],
   "source": [
    ""
   ]
  }
 ],
 "metadata": {
  "kernelspec": {
   "display_name": "Python 2",
   "language": "python",
   "name": "python2"
  },
  "language_info": {
   "codemirror_mode": {
    "name": "ipython",
    "version": 2.0
   },
   "file_extension": ".py",
   "mimetype": "text/x-python",
   "name": "python",
   "nbconvert_exporter": "python",
   "pygments_lexer": "ipython2",
   "version": "2.7.11"
  }
 },
 "nbformat": 4,
 "nbformat_minor": 0
}