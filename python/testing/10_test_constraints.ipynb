{
 "cells": [
  {
   "cell_type": "code",
   "execution_count": 9,
   "metadata": {},
   "outputs": [],
   "source": [
    "from sympy import Symbol\n",
    "from sympy import sympify\n",
    "from sympy.polys import Poly\n",
    "from constraints import *"
   ]
  },
  {
   "cell_type": "code",
   "execution_count": 2,
   "metadata": {},
   "outputs": [
    {
     "name": "stdout",
     "output_type": "stream",
     "text": [
      "blahe\n",
      "blahp\n",
      "((blahe + heye)/2)\n",
      "((blahe + heye + hoe)/3)\n"
     ]
    }
   ],
   "source": [
    "print construct_average_of_terms([\"blah\"],'e')\n",
    "print construct_average_of_terms([\"blah\"],'p')\n",
    "print construct_average_of_terms([\"blah\",'hey'],'e')\n",
    "print construct_average_of_terms([\"blah\",'hey','ho'],'e')"
   ]
  },
  {
   "cell_type": "code",
   "execution_count": 3,
   "metadata": {},
   "outputs": [
    {
     "name": "stdout",
     "output_type": "stream",
     "text": [
      "(-0.32+0.69*traite-0.36*traitp+0.47*idene+0.01*idenp-0.07*idena+0.12*traite*idene)\n",
      "(-0.32+0.69*((trait1e + trait2e)/2)-0.36*((trait1p + trait2p)/2)+0.47*idene+0.01*idenp-0.07*idena+0.12*((trait1e + trait2e)/2)*idene)\n",
      "(-0.18-0.18*traite+0.65*traitp+0.01*traita-0.01*idene+0.59*idenp+0.05*idena)\n",
      "(-0.18-0.18*((trait1e + trait2e)/2)+0.65*((trait1p + trait2p)/2)+0.01*((trait1a + trait2a)/2)-0.01*idene+0.59*idenp+0.05*idena)\n"
     ]
    }
   ],
   "source": [
    "print sub_in_for_modifier_of_identity(\"iden\",[\"trait\"],\"e\")\n",
    "print sub_in_for_modifier_of_identity(\"iden\",[\"trait1\",\"trait2\"],\"e\")\n",
    "print sub_in_for_modifier_of_identity(\"iden\",[\"trait\"],\"p\")\n",
    "print sub_in_for_modifier_of_identity(\"iden\",[\"trait1\",\"trait2\"],\"p\")"
   ]
  },
  {
   "cell_type": "code",
   "execution_count": 4,
   "metadata": {},
   "outputs": [
    {
     "name": "stdout",
     "output_type": "stream",
     "text": [
      "blahe\n",
      "((mode + blahe)/2)\n",
      "((mod1e + mod2e + blahe)/3)\n",
      "((mod1p + mod2p + blahp)/3)\n",
      "(-0.32+0.69*((mod1e + mod2e)/2)-0.36*((mod1p + mod2p)/2)+0.47*i_blahe+0.01*i_blahp-0.07*i_blaha+0.12*((mod1e + mod2e)/2)*i_blahe)\n"
     ]
    }
   ],
   "source": [
    "print get_modifier_equation(\"blah\",[],\"e\")\n",
    "print get_modifier_equation(\"blah\",\"mod\",\"e\")\n",
    "print get_modifier_equation(\"blah\",[\"mod1\",'mod2'],\"e\")\n",
    "print get_modifier_equation(\"blah\",[\"mod1\",'mod2'],\"p\")\n",
    "print get_modifier_equation(\"i_blah\",[\"mod1\",'mod2'],\"e\")"
   ]
  },
  {
   "cell_type": "code",
   "execution_count": 5,
   "metadata": {},
   "outputs": [
    {
     "name": "stdout",
     "output_type": "stream",
     "text": [
      "(i_1e - (s_1e))^2+(i_1p - (s_1p))^2+(i_1a - (s_1a))^2\n",
      "(i_1e - (i_2e))^2+(i_1p - (i_2p))^2+(i_1a - (i_2a))^2\n",
      "((-0.32+0.69*s_1e-0.36*s_1p+0.47*i_1e+0.01*i_1p-0.07*i_1a+0.12*s_1e*i_1e) - (s_2e))^2+((-0.18-0.18*s_1e+0.65*s_1p+0.01*s_1a-0.01*i_1e+0.59*i_1p+0.05*i_1a) - (s_2p))^2+((-0.11-0.04*s_1e+0.07*s_1p+0.53*s_1a-0.02*i_1e-0.02*i_1p+0.64*i_1a) - (s_2a))^2\n",
      "((-0.32+0.69*s_1e-0.36*s_1p+0.47*i_1e+0.01*i_1p-0.07*i_1a+0.12*s_1e*i_1e) - (((s_3e + s_4e + s_2e)/3)))^2+((-0.18-0.18*s_1e+0.65*s_1p+0.01*s_1a-0.01*i_1e+0.59*i_1p+0.05*i_1a) - (((s_3p + s_4p + s_2p)/3)))^2+((-0.11-0.04*s_1e+0.07*s_1p+0.53*s_1a-0.02*i_1e-0.02*i_1p+0.64*i_1a) - (((s_3a + s_4a + s_2a)/3)))^2\n"
     ]
    }
   ],
   "source": [
    "print EqualityConstraint(\"i_1\",\"s_1\").constraint_string\n",
    "print EqualityConstraint(\"i_1\",\"i_2\").constraint_string\n",
    "print EqualityConstraint(\"i_1\",\"s_2\",\"s_1\").constraint_string\n",
    "print EqualityConstraint(\"i_1\",\"s_2\",\"s_1\",['s_3','s_4']).constraint_string"
   ]
  },
  {
   "cell_type": "code",
   "execution_count": 6,
   "metadata": {},
   "outputs": [],
   "source": [
    "import io \n",
    "sent_dict = {}\n",
    "for x in io.open(\"../data/all_epa_terms.txt\"):\n",
    "    x_spl = x.split(\"\\t\")\n",
    "    sent_dict[x_spl[0]] = [float(z) for z in x_spl[1:]]"
   ]
  },
  {
   "cell_type": "code",
   "execution_count": 7,
   "metadata": {},
   "outputs": [
    {
     "name": "stdout",
     "output_type": "stream",
     "text": [
      "{'farm_workers': 'i_2', 'immigrants': 'i_1', 'mexican': 'i_0'}\n",
      "{'i_0p': 0.0, 'i_1p': -0.873508721021821, 'i_2p': 1.24767460051432, 'i_0a': 1.02116316639742, 'i_1a': 0.219014283192978, 'i_0e': -0.0414030261348, 'i_1e': 0.679409448137189, 'i_2e': 1.44557783105987, 'i_2a': -0.41469831849325}\n",
      "{'poor': 'z_0', 'scary': 'z_1', 'bad': 'z_2'}\n",
      "{'z_2e': -2.62566399090431, 'z_1a': 0.910016155088853, 'z_2a': 0.678006881718005, 'z_1e': -2.24167812929849, 'z_0e': -1.76851477173891, 'z_0a': -0.791335513776062, 'z_1p': -1.50707395498392, 'z_2p': -0.522524597397003, 'z_0p': -1.66890268779218}\n"
     ]
    }
   ],
   "source": [
    "identities = {'farm_workers': sent_dict['worker'],\n",
    "              'mexican':sent_dict['foreign'],\n",
    "              'immigrants':sent_dict['immigrant']\n",
    "}\n",
    "\n",
    "sentwords = {'bad': sent_dict['bad'],\n",
    "             'scary':sent_dict['scary'],\n",
    "             'poor':sent_dict['poor']\n",
    "}\n",
    "\n",
    "identity_to_id, identity_values = get_id_and_value_map(identities, IDENTITY_PREFIX)\n",
    "sent_to_id, sent_values = get_id_and_value_map(sentwords,SENTWORD_PREFIX)\n",
    "\n",
    "print identity_to_id\n",
    "print identity_values\n",
    "print sent_to_id\n",
    "print sent_values"
   ]
  },
  {
   "cell_type": "code",
   "execution_count": 8,
   "metadata": {},
   "outputs": [],
   "source": [
    "# IS A CONSTRAINT\n",
    "constraints = []\n",
    "# 1 - basic. \n",
    "# \tfarm_workers are bad\n",
    "constraints.append(EqualityConstraint(identity_to_id['farm_workers'],sent_to_id['bad']))\n",
    "# 2 - non-identity mod on identity. \n",
    "# \tangry farm_workers are scary\n",
    "constraints.append(EqualityConstraint(identity_to_id['farm_workers'],sent_to_id['scary'],sent_to_id['bad']))\n",
    "# 3 - not. \n",
    "# \tfarm_workers are not bad\n",
    "constraints.append(EqualityConstraint(identity_to_id['farm_workers'],sent_to_id['bad'],is_negation=True))\n",
    "# 4 - sent word is identity. \n",
    "# \tfarm_workers are mexican\n",
    "constraints.append(EqualityConstraint(identity_to_id['farm_workers'],identity_to_id['mexican']))\n",
    "# 5 - mod on identity is identity. \n",
    "# \tmexican farm_workers are poor\n",
    "constraints.append(EqualityConstraint(identity_to_id['farm_workers'], sent_to_id['poor'], identity_to_id['mexican']))\n",
    "# 6 - mod on sent is identity and sent is identity and multiple modifiers. \n",
    "# \tfarm_workers are poor mexican immigrants\n",
    "constraints.append(EqualityConstraint(identity_to_id['farm_workers'], identity_to_id['immigrants'],\n",
    "                   equality_modifiers = [sent_to_id['poor'],identity_to_id['mexican']]))"
   ]
  },
  {
   "cell_type": "code",
   "execution_count": 20,
   "metadata": {},
   "outputs": [
    {
     "name": "stdout",
     "output_type": "stream",
     "text": [
      "FINAL :::  -2.62566399090431 \n",
      "\n",
      "FINAL :::  -1.97703403513477 \n",
      "\n",
      "FINAL :::  2.62566399090431 \n",
      "\n",
      "FINAL :::  -0.0414030261348000 \n",
      "\n",
      "FINAL :::  -2.94676804101037 \n",
      "\n",
      "FINAL :::  -0.422543318006709 \n",
      "\n",
      "total: \n",
      "(i_2e - (z_2e))^2+(i_2p - (z_2p))^2+(i_2a - (z_2a))^2+((-0.32+0.69*z_2e-0.36*z_2p+0.47*i_2e+0.01*i_2p-0.07*i_2a+0.12*z_2e*i_2e) - (z_1e))^2+((-0.18-0.18*z_2e+0.65*z_2p+0.01*z_2a-0.01*i_2e+0.59*i_2p+0.05*i_2a) - (z_1p))^2+((-0.11-0.04*z_2e+0.07*z_2p+0.53*z_2a-0.02*i_2e-0.02*i_2p+0.64*i_2a) - (z_1a))^2\n",
      "\n",
      "(i_2a - z_2a)**2 + (i_2e - z_2e)**2 + (i_2p - z_2p)**2 + (-0.07*i_2a + 0.12*i_2e*z_2e + 0.47*i_2e + 0.01*i_2p - z_1e + 0.69*z_2e - 0.36*z_2p - 0.32)**2 + (0.05*i_2a - 0.01*i_2e + 0.59*i_2p - z_1p + 0.01*z_2a - 0.18*z_2e + 0.65*z_2p - 0.18)**2 + (0.64*i_2a - 0.02*i_2e - 0.02*i_2p - z_1a + 0.53*z_2a - 0.04*z_2e + 0.07*z_2p - 0.11)**2\n",
      "\n",
      "1.02450030588709*i_2e**2 + 5.34820385902859*i_2e + 16.8781005533592\n",
      "-2.61015239736689\n"
     ]
    }
   ],
   "source": [
    "# how bad are farm workers in each?\n",
    "farm_worker_id = identity_to_id['farm_workers']\n",
    "\n",
    "#for c in constraints:\n",
    "for c in constraints:\n",
    "    epa_val = 'e'\n",
    "    #print 'constraint string: '\n",
    "    #print c.constraint_string\n",
    "    expr = sympify(c.constraint_string)\n",
    "    #print 'expr: '\n",
    "    #print expr\n",
    "\n",
    "    tmp_v = identity_values[farm_worker_id+epa_val]\n",
    "    del identity_values[farm_worker_id+epa_val]\n",
    "    # compute the constraint\n",
    "    constr = expr.subs(identity_values).subs(sent_values).expand()\n",
    "    #print 'constr: '\n",
    "    #print constr \n",
    "\n",
    "    # add it back to the set of known values\n",
    "    identity_values[farm_worker_id+epa_val] = tmp_v\n",
    "    # get the constants from the polynomial\n",
    "    p = Poly(constr).coeffs()\n",
    "    if len(p) != 3:\n",
    "        raise Exception('gah, constraint did not result in quadratic, wtf')\n",
    "    print 'FINAL ::: ', -p[1]/(2*p[0]), '\\n'\n",
    "\n",
    "print 'total: '\n",
    "equation_str = \"+\".join([c.constraint_string for c in constraints[:2]]) \n",
    "expr = sympify(equation_str)\n",
    "tmp_v = identity_values[farm_worker_id+epa_val]\n",
    "del identity_values[farm_worker_id+epa_val]\n",
    "constr = expr.subs(identity_values).subs(sent_values).expand()\n",
    "identity_values[farm_worker_id+epa_val] = tmp_v\n",
    "p = Poly(constr).coeffs()\n",
    "print equation_str\n",
    "print \n",
    "print expr\n",
    "print\n",
    "print constr\n",
    "print  -p[1]/(2*p[0])"
   ]
  },
  {
   "cell_type": "code",
   "execution_count": 23,
   "metadata": {},
   "outputs": [],
   "source": [
    "sent_dict = {}\n",
    "for x in io.open(\"../data/all_epa_terms.txt\"):\n",
    "    x_spl = x.split(\"\\t\")\n",
    "    sent_dict[x_spl[0]] = [float(z) for z in x_spl[1:]]\n",
    "\n",
    "# make up identity values\n",
    "IDENTITY_LIST_FN = \"../data/identities_for_study.txt\"\n",
    "identity_dict = {x.strip().lower() : sent_dict.get(x.strip().lower(), [0.,0.,0.])  for x in open(IDENTITY_LIST_FN)}\n",
    "\n",
    "\n",
    "identity_to_id, identity_values = get_id_and_value_map(identity_dict, IDENTITY_PREFIX)\n",
    "sent_to_id, sent_values = get_id_and_value_map(sent_dict,SENTWORD_PREFIX)"
   ]
  },
  {
   "cell_type": "code",
   "execution_count": 33,
   "metadata": {},
   "outputs": [
    {
     "data": {
      "text/plain": [
       "[-3.46420406112181, -0.312707502859265, 1.57285782808243]"
      ]
     },
     "execution_count": 33,
     "output_type": "execute_result",
     "metadata": {}
    }
   ],
   "source": [
    "sent_dict['rob']"
   ]
  },
  {
   "cell_type": "code",
   "execution_count": null,
   "metadata": {},
   "outputs": [],
   "source": [
    "# teacher instructed\n",
    "# teacher casually instructed\n",
    "# teacher was forced to instruct\n",
    "# teacher forced to instruct\n",
    "# teacher didn't instruct\n",
    "# teacher would instruct\n",
    "# teacher are not allowed to instruct\n",
    "# teacher was instructed to\n",
    "# teacher needed help instructing\n",
    "# teacher found to have been instructing\n",
    "# instructed teacher\n",
    "# forced to instruct teacher"
   ]
  },
  {
   "cell_type": "code",
   "execution_count": null,
   "metadata": {},
   "outputs": [],
   "source": [
    ""
   ]
  },
  {
   "cell_type": "code",
   "execution_count": null,
   "metadata": {},
   "outputs": [],
   "source": [
    "# emoticons\n",
    "# emojis\n",
    "# lol / haha"
   ]
  },
  {
   "cell_type": "code",
   "execution_count": 44,
   "metadata": {},
   "outputs": [],
   "source": [
    ""
   ]
  },
  {
   "cell_type": "code",
   "execution_count": 15,
   "metadata": {},
   "outputs": [],
   "source": [
    "%reload_ext autoreload\n",
    "%autoreload 2"
   ]
  },
  {
   "cell_type": "code",
   "execution_count": null,
   "metadata": {},
   "outputs": [],
   "source": [
    ""
   ]
  },
  {
   "cell_type": "code",
   "execution_count": 19,
   "metadata": {},
   "outputs": [],
   "source": [
    "from sympy import Symbol\n",
    "from sympy import sympify\n",
    "from sympy.polys import Poly\n",
    "from constraints import *\n",
    "\n",
    "identities = {'teacher': [2.45, 1.75, 0.29],\n",
    "              'student': [1.49, 0.31, 0.75]\n",
    "             }\n",
    "\n",
    "sentwords = {'instruct': [1.85, 1.65, 0.30],\n",
    "             'cocky' : [ -0.57, 0.58,1.06],\n",
    "            'aggressive' : [0.48, 1.64, 1.82]}\n",
    "\n",
    "identity_to_id, identity_values = get_id_and_value_map(identities, IDENTITY_PREFIX)\n",
    "sent_to_id, sent_values = get_id_and_value_map(sentwords,SENTWORD_PREFIX)"
   ]
  },
  {
   "cell_type": "code",
   "execution_count": 20,
   "metadata": {},
   "outputs": [
    {
     "name": "stdout",
     "output_type": "stream",
     "text": [
      "(-0.11-0.04*z_2e+0.07*z_2p+0.53*z_2a-0.02*i_0e-0.02*i_0p+0.64*i_0a)\n",
      "1.05180000000000\n"
     ]
    }
   ],
   "source": [
    "m = get_modifier_equation(identity_to_id['teacher'], sent_to_id['aggressive'],'a')\n",
    "print m\n",
    "expr = sympify(m)\n",
    "constr = expr.subs(identity_values).subs(sent_values).expand()\n",
    "print constr"
   ]
  },
  {
   "cell_type": "code",
   "execution_count": 22,
   "metadata": {},
   "outputs": [],
   "source": [
    "c = EventConstraint(identity_to_id['teacher'],sent_to_id['instruct'],identity_to_id['student'],\n",
    "                   actor_mods = [sent_to_id['aggressive']],\n",
    "                   object_mods=[sent_to_id['cocky']]).constraint_string"
   ]
  },
  {
   "cell_type": "code",
   "execution_count": 10,
   "metadata": {},
   "outputs": [
    {
     "name": "stdout",
     "output_type": "stream",
     "text": [
      "[0.0581138186883378, -0.632163877474165, 2.46923671891170]\n",
      "5.43901512361832\n",
      "[0.106454843081752, -0.254256915948541, 1.38819506174882]\n",
      "1.19420079250544\n",
      "[0.0897858290058725, 0.190053656320448, 1.20659686722442]\n",
      "-1.05837223103446\n",
      "[0.228206138284992, -0.590601827674152, 1.64261969140472]\n",
      "1.29400951287425\n",
      "[0.140499576158436, 0.189844999102923, 1.19690945678601]\n",
      "-0.675607017094636\n",
      "[0.121400000000000, -0.134943835400000, 1.30218379232674]\n",
      "0.555781859143328\n"
     ]
    }
   ],
   "source": [
    "for id in ['i_0','i_1']:\n",
    "    for epa_val in ['e','p','a']:\n",
    "        expr = sympify(c)\n",
    "        tmp_v = identity_values[id+epa_val]\n",
    "        del identity_values[id+epa_val]\n",
    "        constr = expr.subs(identity_values).subs(sent_values).expand()\n",
    "        identity_values[id+epa_val] = tmp_v\n",
    "        p = Poly(constr).coeffs()\n",
    "        print p\n",
    "        #print c\n",
    "        #print \n",
    "        #print expr\n",
    "        #print\n",
    "        #print constr\n",
    "        print  -p[1]/(2*p[0])"
   ]
  }
 ],
 "metadata": {
  "kernelspec": {
   "display_name": "Python 2",
   "language": "python",
   "name": "python2"
  },
  "language_info": {
   "codemirror_mode": {
    "name": "ipython",
    "version": 2.0
   },
   "file_extension": ".py",
   "mimetype": "text/x-python",
   "name": "python",
   "nbconvert_exporter": "python",
   "pygments_lexer": "ipython2",
   "version": "2.7.11"
  }
 },
 "nbformat": 4,
 "nbformat_minor": 0
}