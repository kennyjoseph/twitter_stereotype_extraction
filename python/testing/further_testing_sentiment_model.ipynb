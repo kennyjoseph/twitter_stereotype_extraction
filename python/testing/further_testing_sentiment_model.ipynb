{
 "cells": [
  {
   "cell_type": "code",
   "execution_count": 3,
   "metadata": {},
   "outputs": [],
   "source": [
    "from stat_util import *\n",
    "import numpy as np\n",
    "\n",
    "%matplotlib inline\n",
    "import matplotlib as mpl\n",
    "import matplotlib.pyplot as plt\n",
    "import seaborn as sns\n",
    "import pandas as pd\n",
    "from scipy import linalg\n",
    "from sklearn.datasets import make_sparse_spd_matrix\n",
    "from sklearn.covariance import GraphLassoCV, ledoit_wolf\n",
    "import codecs, sys\n",
    "sns.set()\n",
    "\n",
    "\n",
    "sys.stdout = codecs.getwriter('utf-8')(sys.stdout)\n",
    "float_formatter = lambda x: \"%.6f\" % x\n",
    "np.set_printoptions(threshold=10000,\n",
    "                    linewidth=100,\n",
    "                    formatter={'float_kind':float_formatter})"
   ]
  },
  {
   "cell_type": "code",
   "execution_count": 4,
   "metadata": {},
   "outputs": [],
   "source": [
    "import cPickle as pickle\n",
    "import glob\n",
    "users = []\n",
    "for u_name in glob.glob(\"../data/textunit/*\"):\n",
    "    #print u_name\n",
    "    try:\n",
    "        users+= pickle.load(open(u_name))\n",
    "    except:\n",
    "        pass\n",
    "u_tmp2 = users"
   ]
  },
  {
   "cell_type": "code",
   "execution_count": 3,
   "metadata": {},
   "outputs": [
    {
     "data": {
      "text/plain": [
       "7621"
      ]
     },
     "execution_count": 3,
     "output_type": "execute_result",
     "metadata": {}
    }
   ],
   "source": [
    "len(users)"
   ]
  },
  {
   "cell_type": "code",
   "execution_count": 4,
   "metadata": {},
   "outputs": [],
   "source": [
    "from textunit import TextUnit\n",
    "from twitter_dm.utility.general_utils import read_grouped_by_newline_file\n",
    "from constraints import get_id_and_value_map\n",
    "import io\n",
    "import sys\n",
    "import codecs\n",
    "from constraints import IDENTITY_PREFIX, SENTWORD_PREFIX\n",
    "from collections import defaultdict\n",
    "\n",
    "sys.stdout = codecs.getwriter('utf-8')(sys.stdout)\n",
    "\n",
    "# read in sentiment word values\n",
    "sent_dict = {}\n",
    "for x in io.open(\"../data/all_epa_terms.txt\"):\n",
    "    x_spl = x.split(\"\\t\")\n",
    "    sent_dict[x_spl[0]] = [float(z) for z in x_spl[1:]]\n",
    "\n",
    "# make up identity values\n",
    "\n",
    "identities = {'algerian', 'bahrainian', 'egyptian', 'iranian', 'iraqi', 'jordanian', 'kuwaiti', 'kuwaitian', \n",
    "              'lebanese', 'libyan', 'moroccan', 'omani', 'qatari', 'saudi', 'saudi arabian', 'syrain', 'tunisian', \n",
    "              'emirati', 'yemeni', 'american', 'russian', 'british', 'myself as i really am', 'woman', 'man', 'boy', \n",
    "              'girl', 'boyfriend', 'bf', 'girlfriend', 'gf', 'arab', 'muslim', 'terrorist', 'jew', 'christian', \n",
    "              'sunni', 'shiite', 'dictator', 'president', 'demonstrator', 'protestor', 'jerk', 'ruler', 'dumbass',\n",
    "              'teacher', 'student', 'father', 'mother', 'brother', 'sister', 'daughter', 'son', 'husband', 'wife', \n",
    "              'gunman', 'enemy', 'terrorist', 'father', 'palestinian', 'netanyahu', 'obama', 'activist', 'soldier',\n",
    "              'daughter', 'woman', 'officer', 'israel', 'iranians', 'muslims', 'militant', 'wife', 'policeman',\n",
    "              'u.s.', 'police', 'islamists', 'iraq', 'guard', 'judge', 'iran', 'bush', 'syria', 'regime', \n",
    "              'criminal', 'israeli', 'child', 'murderer', 'insurgent', 'mother', 'abbas', 'army', 'washington', \n",
    "              'ally', 'killer', 'taliban', 'rebel', 'democrat', 'administration', 'assange', 'attacker', 'china', \n",
    "              'republican', 'jerusalem', 'thug', 'scientist', 'sniper', 'barak', 'laden', 'protester', 'husband', \n",
    "              'dictator', 'king', 'militiaman', 'politician', 'athlete', 'al-qaeda', 'expert', 'civilian', 'hero', \n",
    "              'extremist', 'taleban', 'taliban', 'mccain', 'assad', 'teacher', 'al-assad', 'sister', 'pentagon', \n",
    "              'christian', 'sunni', 'youth', 'refugee', 'smuggler', 'teenager', 'mercenary', 'tunisian', 'pirate', \n",
    "              'reporter', 'protestor', 'thief', 'gaddafi', 'al-qadhafi', 'prisoner', 'migrant', 'qaddafi', 'gadhafi',\n",
    "              'revolutionary', 'al-asad', 'al-assad', 'baby', 'hostage', 'morsi'}\n",
    "\n",
    "identity_dict = {x.strip().lower() : sent_dict.get(x.strip().lower(), [0.,0.,0.]) for x in identities}\n",
    "\n",
    "identity_to_id, identity_values = get_id_and_value_map(identity_dict, IDENTITY_PREFIX)\n",
    "id_to_identity = {v:k for k,v in identity_to_id.items()}\n",
    "sent_to_id, sent_values = get_id_and_value_map(sent_dict,SENTWORD_PREFIX)\n",
    "\n",
    "id_to_sent = {v:k for k,v  in sent_to_id.items()}\n",
    "\n",
    "gram_list = set(identity_to_id.keys())|set(sent_to_id.keys())"
   ]
  },
  {
   "cell_type": "code",
   "execution_count": 5,
   "metadata": {},
   "outputs": [
    {
     "name": "stdout",
     "output_type": "stream",
     "text": [
      "Dictionary(79 unique tokens: [u'i_116', u'i_115', u'i_114', u'i_111', u'i_93']...)\n",
      "SHAPE:  (79, 7621)\n"
     ]
    }
   ],
   "source": [
    "# association matrix data\n",
    "from gensim import corpora, models, similarities\n",
    "from gensim.matutils import corpus2dense\n",
    "\n",
    "texts = [u.identities for u in users]\n",
    "dictionary = corpora.Dictionary(texts) \n",
    "dictionary.filter_extremes(no_below=300)\n",
    "print dictionary\n",
    "corpus = [dictionary.doc2bow(u.identities) for u in users]\n",
    "\n",
    "corp_mat = corpus2dense(corpus,len(dictionary))\n",
    "\n",
    "print 'SHAPE: ', corp_mat.shape\n",
    "\n",
    "for i,u in enumerate(users):\n",
    "    u.identities_vector = corp_mat[:,i]\n",
    "    \n",
    "row_to_identity = {k:v for k,v in dictionary.items()}\n",
    "identity_to_row = {id_to_identity[v]:k for k,v in row_to_identity.items()}"
   ]
  },
  {
   "cell_type": "code",
   "execution_count": 6,
   "metadata": {},
   "outputs": [],
   "source": [
    "u2 = [u for u in users if u.identities_vector.sum() > 50]\n",
    "u_tmp = users\n",
    "users = u2"
   ]
  },
  {
   "cell_type": "code",
   "execution_count": 8,
   "metadata": {},
   "outputs": [],
   "source": [
    "import numpy as np\n",
    "from stat_util import *\n",
    "\n",
    "\n",
    "# construct identity values list from shrunk down data\n",
    "identity_to_values_small = {}\n",
    "for v in dictionary.values():\n",
    "    identity_to_values_small[v+'e'] = identity_values[v+'e']\n",
    "    identity_to_values_small[v+'p'] = identity_values[v+'p']\n",
    "    identity_to_values_small[v+'a'] = identity_values[v+'a']\n",
    "    \n",
    "n_users = len(users)\n",
    "n_identity_sent_values = len(identity_to_values_small)\n",
    "nu = float(n_identity_sent_values + 2.)\n",
    "kappa = 10.\n",
    "beta = 2."
   ]
  },
  {
   "cell_type": "code",
   "execution_count": 10,
   "metadata": {},
   "outputs": [],
   "source": [
    "# need to map rows to indices\n",
    "index_to_ids = sorted(identity_to_values_small.keys())\n",
    "ids_to_index = {v : i for i,v in enumerate(index_to_ids)}\n",
    "\n",
    "# construct prior correlation matrix\n",
    "expected_variance = 100\n",
    "ep_correlation = 50\n",
    "pa_correlation = 30\n",
    "ea_correlation = 30\n",
    "\n",
    "mu_0 = np.array([identity_to_values_small[k] for k in index_to_ids])\n",
    "\n",
    "\n",
    "sigma_0 = np.identity(n_identity_sent_values)*expected_variance\n",
    "for v in dictionary.values():\n",
    "    e_ind = ids_to_index[v+'e']\n",
    "    p_ind = ids_to_index[v+'p']\n",
    "    a_ind = ids_to_index[v+'a']\n",
    "    if mu_0[e_ind] == 0:\n",
    "        sigma_0[e_ind,e_ind] += 100\n",
    "        sigma_0[p_ind,p_ind] += 100\n",
    "        sigma_0[a_ind,a_ind] += 100\n",
    "    sigma_0[e_ind,p_ind] = sigma_0[p_ind,e_ind] = ep_correlation #* sigma_0[e_ind,e_ind]* sigma_0[p_ind,p_ind]\n",
    "    sigma_0[e_ind,a_ind] = sigma_0[a_ind,e_ind] = ea_correlation #* sigma_0[e_ind,e_ind]* sigma_0[a_ind,a_ind]\n",
    "    sigma_0[p_ind,a_ind] = sigma_0[a_ind,p_ind] = pa_correlation #* sigma_0[a_ind,a_ind]* sigma_0[p_ind,p_ind]\n",
    "\n",
    "\n",
    "# todo: use identity_values\n",
    "\n",
    "sigma = sample_invwishart(sigma_0,nu+100)\n",
    "mu = np.random.multivariate_normal(mu_0, sigma/kappa)\n",
    "\n",
    "precision_matrix = np.linalg.inv(sigma)\n",
    "# todo: draw ?\n",
    "phi = np.random.multivariate_normal(mu,sigma, n_users)"
   ]
  },
  {
   "cell_type": "code",
   "execution_count": 11,
   "metadata": {},
   "outputs": [
    {
     "data": {
      "text/plain": [
       "<matplotlib.axes._subplots.AxesSubplot at 0x25ab3cbd0>"
      ]
     },
     "execution_count": 11,
     "output_type": "execute_result",
     "metadata": {}
    },
    {
     "data": {
      "image/png": "[encoded data removed]"
     },
     "output_type": "display_data",
     "metadata": {}
    }
   ],
   "source": [
    "sns.heatmap(sigma[:25,:25])"
   ]
  },
  {
   "cell_type": "code",
   "execution_count": 19,
   "metadata": {},
   "outputs": [
    {
     "name": "stdout",
     "output_type": "stream",
     "text": [
      "0\n"
     ]
    }
   ],
   "source": [
    "for i in range(5):\n",
    "    if i % 10 == 0:\n",
    "        print i\n",
    "    for u_it, u in enumerate(users):\n",
    "        # have to \"recreate\" identity_values\n",
    "        user_identity_values = {index_to_ids[i] : phi[u_it, i]\n",
    "                           for i in range(n_identity_sent_values)}\n",
    "        \n",
    "        u_phi = phi[u_it]\n",
    "        for k, identity_id in enumerate(index_to_ids):\n",
    "            prior_var = 1/precision_matrix[k,k]\n",
    "            \n",
    "            prior_mean = np.dot(precision_matrix[:, k], (u_phi - mu))\n",
    "            prior_mean -= precision_matrix[k,k] * (u_phi[k] - mu[k])\n",
    "            prior_mean = mu[k] - prior_var*prior_mean\n",
    "\n",
    "            sent_for_identity = u.identities_to_tweets[index_to_ids[k]]\n",
    "            if not len(sent_for_identity):\n",
    "                u_phi[k] = np.random.normal(prior_mean, sqrt(prior_var))\n",
    "                continue\n",
    "\n",
    "            c0_all = np.zeros(len(sent_for_identity))\n",
    "            c1_all = np.zeros(len(sent_for_identity))\n",
    "            for sent_it,sentence in enumerate(sent_for_identity):\n",
    "                c0, c1 = sent_for_identity[sent_it].compute_constants_for_identity(identity_id,\n",
    "                                                                                   sentiment_values,\n",
    "                                                                                   user_identity_values)\n",
    "                c0_all[sent_it] = c0\n",
    "                c1_all[sent_it] = c1\n",
    "\n",
    "            x_i = -(c1_all/(2*c0_all))\n",
    "            s_i = beta/(2*c0_all)\n",
    "\n",
    "            var = 1./(1./prior_var + (1./s_i).sum())\n",
    "            b = prior_mean/prior_var + (x_i/s_i).sum()\n",
    "            exp_mean = b*var\n",
    "            u_phi[row_index] = np.random.normal(exp_mean, sqrt(var))\n",
    "\n",
    "    mu, sigma = sample_gaussian(phi, n_identity_sent_values, n_users, mu_0, sigma_0,nu, kappa)\n",
    "    precision_matrix = np.linalg.inv(sigma)\n",
    "    \n",
    "    # compute perplexity"
   ]
  },
  {
   "cell_type": "code",
   "execution_count": 13,
   "metadata": {},
   "outputs": [],
   "source": [
    "from twitter_dm.utility.general_utils import tab_stringify_newline as tsn\n",
    "\n",
    "np.savetxt(\"phi.txt\",phi)\n",
    "\n",
    "c = open(\"phi_labels.txt\",\"w\")\n",
    "for i in range(len(index_to_ids)):\n",
    "    c.write(tsn([id_to_identity[index_to_ids[i][:-1]], index_to_ids[i][-1], mu[i], mu_0[i],  mu[i]-mu_0[i],i]))\n",
    "c.close()"
   ]
  },
  {
   "cell_type": "code",
   "execution_count": 2,
   "metadata": {},
   "outputs": [
    {
     "ename": "NameError",
     "evalue": "name 'index_to_ids' is not defined",
     "output_type": "error",
     "traceback": [
      "\u001b[0;31m---------------------------------------------------------------------------\u001b[0m",
      "\u001b[0;31mNameError\u001b[0m                                 Traceback (most recent call last)",
      "\u001b[0;32m<ipython-input-2-fc62e4abea43>\u001b[0m in \u001b[0;36m<module>\u001b[0;34m()\u001b[0m\n\u001b[1;32m      2\u001b[0m \u001b[0;34m\u001b[0m\u001b[0m\n\u001b[1;32m      3\u001b[0m \u001b[0mz\u001b[0m \u001b[0;34m=\u001b[0m \u001b[0;34m[\u001b[0m\u001b[0;34m]\u001b[0m\u001b[0;34m\u001b[0m\u001b[0m\n\u001b[0;32m----> 4\u001b[0;31m \u001b[0;32mfor\u001b[0m \u001b[0mi\u001b[0m \u001b[0;32min\u001b[0m \u001b[0mrange\u001b[0m\u001b[0;34m(\u001b[0m\u001b[0mlen\u001b[0m\u001b[0;34m(\u001b[0m\u001b[0mindex_to_ids\u001b[0m\u001b[0;34m)\u001b[0m\u001b[0;34m)\u001b[0m\u001b[0;34m:\u001b[0m\u001b[0;34m\u001b[0m\u001b[0m\n\u001b[0m\u001b[1;32m      5\u001b[0m     \u001b[0mz\u001b[0m\u001b[0;34m.\u001b[0m\u001b[0mappend\u001b[0m\u001b[0;34m(\u001b[0m\u001b[0;34m[\u001b[0m\u001b[0mid_to_identity\u001b[0m\u001b[0;34m[\u001b[0m\u001b[0mindex_to_ids\u001b[0m\u001b[0;34m[\u001b[0m\u001b[0mi\u001b[0m\u001b[0;34m]\u001b[0m\u001b[0;34m[\u001b[0m\u001b[0;34m:\u001b[0m\u001b[0;34m-\u001b[0m\u001b[0;36m1\u001b[0m\u001b[0;34m]\u001b[0m\u001b[0;34m]\u001b[0m\u001b[0;34m,\u001b[0m \u001b[0mindex_to_ids\u001b[0m\u001b[0;34m[\u001b[0m\u001b[0mi\u001b[0m\u001b[0;34m]\u001b[0m\u001b[0;34m[\u001b[0m\u001b[0;34m-\u001b[0m\u001b[0;36m1\u001b[0m\u001b[0;34m]\u001b[0m\u001b[0;34m,\u001b[0m \u001b[0mmu\u001b[0m\u001b[0;34m[\u001b[0m\u001b[0mi\u001b[0m\u001b[0;34m]\u001b[0m\u001b[0;34m,\u001b[0m \u001b[0mmu_0\u001b[0m\u001b[0;34m[\u001b[0m\u001b[0mi\u001b[0m\u001b[0;34m]\u001b[0m\u001b[0;34m,\u001b[0m  \u001b[0mmu\u001b[0m\u001b[0;34m[\u001b[0m\u001b[0mi\u001b[0m\u001b[0;34m]\u001b[0m\u001b[0;34m-\u001b[0m\u001b[0mmu_0\u001b[0m\u001b[0;34m[\u001b[0m\u001b[0mi\u001b[0m\u001b[0;34m]\u001b[0m\u001b[0;34m,\u001b[0m\u001b[0mi\u001b[0m\u001b[0;34m]\u001b[0m\u001b[0;34m)\u001b[0m\u001b[0;34m\u001b[0m\u001b[0m\n\u001b[1;32m      6\u001b[0m \u001b[0mz\u001b[0m \u001b[0;34m=\u001b[0m \u001b[0mpd\u001b[0m\u001b[0;34m.\u001b[0m\u001b[0mDataFrame\u001b[0m\u001b[0;34m(\u001b[0m\u001b[0mz\u001b[0m\u001b[0;34m)\u001b[0m\u001b[0;34m\u001b[0m\u001b[0m\n",
      "\u001b[0;31mNameError\u001b[0m: name 'index_to_ids' is not defined"
     ]
    }
   ],
   "source": [
    "import pandas as pd\n",
    "\n",
    "z = []\n",
    "for i in range(len(index_to_ids)):\n",
    "    z.append([id_to_identity[index_to_ids[i][:-1]], index_to_ids[i][-1], mu[i], mu_0[i],  mu[i]-mu_0[i],i])\n",
    "z = pd.DataFrame(z)\n",
    "z.columns = ['name','epa','mu','mu_0','sub', 'i']\n",
    "z.sort('mu', inplace=True)\n",
    "plt.figure(figsize=(7, 15))\n",
    "sns.barplot(x='name',y='mu',data=z[(z.mu_0 == 0) & (z.epa=='e')],palette=\"Blues_d\")"
   ]
  },
  {
   "cell_type": "code",
   "execution_count": 21,
   "metadata": {},
   "outputs": [
    {
     "name": "stdout",
     "output_type": "stream",
     "text": [
      "0.00942335318852 1.45238754094\n",
      "0.197850390359 1.76422706915\n"
     ]
    },
    {
     "data": {
      "image/png": "[encoded data removed]"
     },
     "output_type": "display_data",
     "metadata": {}
    }
   ],
   "source": [
    "from sympy import Symbol\n",
    "tot_vals = []\n",
    "name = 'extremist'\n",
    "id_v = identity_to_id[name]\n",
    "for u in users:\n",
    "    vals = []\n",
    "    for k in u.identities_to_tweets[id_v]:\n",
    "        if id_v in k.identities_to_constraint_string_map:\n",
    "            q = {str(s)[:-1] for s in k.identities_to_constraint_string_map[id_v].atoms(Symbol)}\n",
    "            if id_v in q:\n",
    "                q.remove(id_v)\n",
    "            v = []\n",
    "            for x in q:\n",
    "                if x in id_to_sent:\n",
    "                    v.append(id_to_sent[x])\n",
    "                    vals.append(sent_values[x+'e'])\n",
    "                elif x in id_to_identity:\n",
    "                    v.append(id_to_identity[x])\n",
    "                    vals.append(identity_values[x+'e'])\n",
    "            #print \" \".join(v)\n",
    "    if len(vals):\n",
    "        tot_vals.append(np.array(vals).mean())\n",
    "sns.distplot(tot_vals)\n",
    "print np.array(tot_vals).mean(),np.array(tot_vals).std()\n",
    "\n",
    "sns.distplot(phi[:,int(z[(z.name==name) & (z.epa=='e')].i)])\n",
    "print phi[:,int(z[(z.name==name) & (z.epa=='e')].i)].mean(), phi[:,int(z[(z.name==name) & (z.epa=='e')].i)].std()"
   ]
  },
  {
   "cell_type": "code",
   "execution_count": null,
   "metadata": {},
   "outputs": [],
   "source": [
    "users[0]"
   ]
  }
 ],
 "metadata": {
  "kernelspec": {
   "display_name": "Python 2",
   "language": "python",
   "name": "python2"
  },
  "language_info": {
   "codemirror_mode": {
    "name": "ipython",
    "version": 2.0
   },
   "file_extension": ".py",
   "mimetype": "text/x-python",
   "name": "python",
   "nbconvert_exporter": "python",
   "pygments_lexer": "ipython2",
   "version": "2.7.10"
  }
 },
 "nbformat": 4,
 "nbformat_minor": 0
}